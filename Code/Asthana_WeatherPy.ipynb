{
 "cells": [
  {
   "cell_type": "markdown",
   "metadata": {},
   "source": [
    "# WeatherPy\n",
    "----\n",
    "\n",
    "#### Note\n",
    "* Instructions have been included for each segment. You do not have to follow them exactly, but they are included to help you think through the steps."
   ]
  },
  {
   "cell_type": "markdown",
   "metadata": {},
   "source": [
    "# Observations\n",
    "-----\n",
    "\n",
    "### 1. There is a relatively strong negative correlation (r = 0.71) between maximum temperature and latitude for the northern hemisphere. In other words, the further the city is from the equator in the northern hemisphere, the lower the maximum temperature is. \n",
    "\n",
    "### 2. There is a weaker positive correlation (r = 0.49) between maximum temperature and latitude for the southern hemisphere. \n",
    "\n",
    "### 3. There does not appear to be much of a relationship betwen latitude and cloudiness. In other words, city latitude does not necessarily predict cloudiness. A similar observation can be made between latitude and wind speed. "
   ]
  },
  {
   "cell_type": "code",
   "execution_count": null,
   "metadata": {
    "scrolled": true
   },
   "outputs": [],
   "source": [
    "# Dependencies and Setup\n",
    "import matplotlib.pyplot as plt\n",
    "import pandas as pd\n",
    "import numpy as np\n",
    "import requests\n",
    "import time\n",
    "from scipy.stats import linregress\n",
    "\n",
    "# Import API key\n",
    "from api_keys import weather_api_key\n",
    "\n",
    "# Incorporated citipy to determine city based on latitude and longitude\n",
    "from citipy import citipy\n",
    "\n",
    "# Output File (CSV)\n",
    "output_data_file = \"output_data/cities.csv\"\n",
    "\n",
    "# Range of latitudes and longitudes\n",
    "lat_range = (-90, 90)\n",
    "lng_range = (-180, 180)"
   ]
  },
  {
   "cell_type": "markdown",
   "metadata": {},
   "source": [
    "## Generate Cities List"
   ]
  },
  {
   "cell_type": "code",
   "execution_count": null,
   "metadata": {},
   "outputs": [],
   "source": [
    "# List for holding lat_lngs and cities\n",
    "lat_lngs = []\n",
    "cities = []\n",
    "\n",
    "# Create a set of random lat and lng combinations\n",
    "lats = np.random.uniform(lat_range[0], lat_range[1], size=1500)\n",
    "lngs = np.random.uniform(lng_range[0], lng_range[1], size=1500)\n",
    "lat_lngs = zip(lats, lngs)\n",
    "\n",
    "# Identify nearest city for each lat, lng combination\n",
    "for lat_lng in lat_lngs:\n",
    "    city = citipy.nearest_city(lat_lng[0], lat_lng[1]).city_name\n",
    "    \n",
    "    # If the city is unique, then add it to a our cities list\n",
    "    if city not in cities:\n",
    "        cities.append(city)\n",
    "\n",
    "# Print the city count to confirm sufficient count\n",
    "len(cities)"
   ]
  },
  {
   "cell_type": "markdown",
   "metadata": {},
   "source": [
    "### Perform API Calls\n",
    "* Perform a weather check on each city using a series of successive API calls.\n",
    "* Include a print log of each city as it'sbeing processed (with the city number and city name).\n"
   ]
  },
  {
   "cell_type": "code",
   "execution_count": null,
   "metadata": {},
   "outputs": [],
   "source": [
    "# Base url and save config information\n",
    "url = \"http://api.openweathermap.org/data/2.5/weather?\"\n",
    "city = \"Chicago\"\n",
    "units = \"Imperial\""
   ]
  },
  {
   "cell_type": "code",
   "execution_count": null,
   "metadata": {},
   "outputs": [],
   "source": [
    "# Build query url\n",
    "query_url = f\"{url}appid={weather_api_key}&q={city}&units{units}\"\n",
    "\n",
    "# Preview data pull\n",
    "weather_response=requests.get(query_url).json()\n",
    "weather_response"
   ]
  },
  {
   "cell_type": "code",
   "execution_count": null,
   "metadata": {},
   "outputs": [],
   "source": [
    "# Create lists to hold respoonse data\n",
    "city_names = []\n",
    "latitudes = []\n",
    "longitudes = []\n",
    "max_temps = []\n",
    "humidity_levels = []\n",
    "cloudiness = []\n",
    "wind_speeds = []\n",
    "countries = []\n",
    "dates = []\n",
    "\n",
    "# Set the record counter\n",
    "record = 1\n",
    "\n",
    "# Opening print statements\n",
    "print(f\"Beginning Data Retrieval\")\n",
    "print(f\"----------------------------\")\n",
    "\n",
    "# Loop through the list of cities and perform data request for each\n",
    "# Include try/except function for cities with unavailable data\n",
    "for city in cities:\n",
    "    try:\n",
    "        query_url = url + \"appid=\" + weather_api_key + \"&q=\" + city + \"&units=\" + units\n",
    "    \n",
    "        weather_response = requests.get(query_url).json()\n",
    "    \n",
    "        city_name = weather_response[\"name\"]\n",
    "        latitude = weather_response[\"coord\"][\"lat\"]\n",
    "        longitude = weather_response[\"coord\"][\"lon\"]\n",
    "        max_temp = weather_response[\"main\"][\"temp_max\"]\n",
    "        humidity = weather_response[\"main\"][\"humidity\"]\n",
    "        clouds = weather_response[\"clouds\"][\"all\"]\n",
    "        wind_speed = weather_response[\"wind\"][\"speed\"]\n",
    "        country = weather_response[\"sys\"][\"country\"]\n",
    "        date = weather_response[\"dt\"]\n",
    "        city_record = weather_response[\"name\"]\n",
    "    \n",
    "    \n",
    "        city_names.append(city_name)\n",
    "        latitudes.append(latitude)\n",
    "        longitudes.append(longitude)\n",
    "        max_temps.append(max_temp)\n",
    "        humidity_levels.append(humidity)\n",
    "        cloudiness.append(clouds)\n",
    "        wind_speeds.append(wind_speed)\n",
    "        countries.append(country)\n",
    "        dates.append(date)\n",
    "        \n",
    "        print(f\"Processing Record {record} | {city_record}\")\n",
    "        \n",
    "        # Increase record counter by 1\n",
    "        record = record + 1\n",
    "        \n",
    "        # Timer!!\n",
    "        time.sleep(1)\n",
    "        \n",
    "    except:\n",
    "        print(\"City not found. Skipping...\")\n",
    "    continue\n",
    "    \n",
    "# Closing print statements\n",
    "print(f\"---------------------------------\")\n",
    "print(f\"Data Retrieval Complete\")\n",
    "print(f\"---------------------------------\")"
   ]
  },
  {
   "cell_type": "markdown",
   "metadata": {},
   "source": [
    "### Convert Raw Data to DataFrame\n",
    "* Export the city data into a .csv.\n",
    "* Display the DataFrame"
   ]
  },
  {
   "cell_type": "code",
   "execution_count": null,
   "metadata": {},
   "outputs": [],
   "source": [
    "# Create weather dictionary with generated lists\n",
    "weather_dict = {\"City\": city_names,\n",
    "               \"Lat\": latitudes,\n",
    "               \"Lon\": longitudes,\n",
    "               \"Max Temp\": max_temps,\n",
    "               \"Humidity\": humidity_levels,\n",
    "               \"Cloudiness\": cloudiness,\n",
    "               \"Wind Speed\": wind_speeds,\n",
    "               \"Country\": countries,\n",
    "               \"Dates\": dates}\n",
    "\n",
    "# Create weather dataframe from dictionary and display data count to ensure captured correctly\n",
    "weather_df = pd.DataFrame(weather_dict)\n",
    "weather_df.count()"
   ]
  },
  {
   "cell_type": "code",
   "execution_count": null,
   "metadata": {},
   "outputs": [],
   "source": [
    "# Display weather dataframe\n",
    "weather_df.describe()"
   ]
  },
  {
   "cell_type": "code",
   "execution_count": null,
   "metadata": {},
   "outputs": [],
   "source": [
    "# Export city weather data into a .csv\n",
    "weather_df.to_csv(\"../output_data/cities_weather_output_final.csv\", index=False)"
   ]
  },
  {
   "cell_type": "markdown",
   "metadata": {},
   "source": [
    "## Inspect the data and remove the cities where the humidity > 100%.\n",
    "----\n",
    "Skip this step if there are no cities that have humidity > 100%. "
   ]
  },
  {
   "cell_type": "code",
   "execution_count": null,
   "metadata": {},
   "outputs": [],
   "source": [
    "#  Get the indices of cities that have humidity over 100%.\n",
    "index = weather_df.index\n",
    "condition = weather_df[\"Humidity\"] > 100\n",
    "humidity_outlier_indices = index[condition]\n",
    "\n",
    "humidity_outlier_indices_list = humidity_outlier_indices.tolist()\n",
    "print(humidity_outlier_indices_list)"
   ]
  },
  {
   "cell_type": "code",
   "execution_count": null,
   "metadata": {},
   "outputs": [],
   "source": []
  },
  {
   "cell_type": "markdown",
   "metadata": {},
   "source": [
    "## Plotting the Data\n",
    "* Use proper labeling of the plots using plot titles (including date of analysis) and axes labels.\n",
    "* Save the plotted figures as .pngs."
   ]
  },
  {
   "cell_type": "markdown",
   "metadata": {},
   "source": [
    "## Latitude vs. Temperature Plot"
   ]
  },
  {
   "cell_type": "code",
   "execution_count": null,
   "metadata": {},
   "outputs": [],
   "source": [
    "import datetime \n",
    "date = datetime.datetime.now()\n",
    "print(dir(datetime))\n",
    "current_date = (\"(\" + str(date.month) + \"/\" + str(date.day) + \"/\" + str(date.year) + \")\")\n",
    "current_date"
   ]
  },
  {
   "cell_type": "code",
   "execution_count": null,
   "metadata": {
    "scrolled": true
   },
   "outputs": [],
   "source": [
    "plt.scatter(weather_df[\"Lat\"], weather_df[\"Max Temp\"], marker=\"o\")\n",
    "\n",
    "plt.title(\"City Latitude vs. Max Temperature (F)\" + \" \" + current_date)\n",
    "plt.ylabel(\"Max Temperature (F)\")\n",
    "plt.xlabel(\"Latitude\")\n",
    "\n",
    "plt.savefig(\"../output_images/Latitude vs. Temperature.png\")\n",
    "\n",
    "plt.show()"
   ]
  },
  {
   "cell_type": "markdown",
   "metadata": {},
   "source": [
    "## Latitude vs. Humidity Plot"
   ]
  },
  {
   "cell_type": "code",
   "execution_count": null,
   "metadata": {},
   "outputs": [],
   "source": [
    "plt.scatter(weather_df[\"Lat\"], weather_df[\"Humidity\"])\n",
    "\n",
    "plt.title(\"City Latitude vs. Humidity\" + \" \" + current_date)\n",
    "plt.ylabel(\"Humidity (%)\")\n",
    "plt.xlabel(\"Latitude\")\n",
    "\n",
    "plt.savefig(\"../output_images/Latitude vs. Humidity.png\")\n",
    "\n",
    "plt.show()"
   ]
  },
  {
   "cell_type": "markdown",
   "metadata": {},
   "source": [
    "## Latitude vs. Cloudiness Plot"
   ]
  },
  {
   "cell_type": "code",
   "execution_count": null,
   "metadata": {},
   "outputs": [],
   "source": [
    "plt.scatter(weather_df[\"Lat\"], weather_df[\"Cloudiness\"])\n",
    "\n",
    "plt.title(\"City Latitude vs. Cloudiness\" + \" \" + current_date)\n",
    "plt.ylabel(\"Cloudiness (%)\")\n",
    "plt.xlabel(\"Latitude\")\n",
    "\n",
    "plt.savefig(\"../output_images/Latitude vs. Cloudiness.png\")\n",
    "\n",
    "plt.show()"
   ]
  },
  {
   "cell_type": "markdown",
   "metadata": {},
   "source": [
    "## Latitude vs. Wind Speed Plot"
   ]
  },
  {
   "cell_type": "code",
   "execution_count": null,
   "metadata": {},
   "outputs": [],
   "source": [
    "plt.scatter(weather_df[\"Lat\"], weather_df[\"Wind Speed\"])\n",
    "\n",
    "plt.title(\"City Latitude vs. Wind Speed\" + \" \" + current_date)\n",
    "plt.ylabel(\"Wind Speed (mph)\")\n",
    "plt.xlabel(\"Latitude\")\n",
    "\n",
    "plt.savefig(\"../output_images/Latitude vs. Wind Speed.png\")\n",
    "\n",
    "plt.show()"
   ]
  },
  {
   "cell_type": "markdown",
   "metadata": {},
   "source": [
    "## Linear Regression"
   ]
  },
  {
   "cell_type": "code",
   "execution_count": null,
   "metadata": {},
   "outputs": [],
   "source": [
    "# Create conditional regression variables dataframe\n",
    "northern_hemisphere = weather_df.loc[weather_df[\"Lat\"] >= 0]\n",
    "\n",
    "southern_hemisphere = weather_df[weather_df[\"Lat\"] < 0]"
   ]
  },
  {
   "cell_type": "markdown",
   "metadata": {},
   "source": [
    "####  Northern Hemisphere - Max Temp vs. Latitude Linear Regression"
   ]
  },
  {
   "cell_type": "code",
   "execution_count": null,
   "metadata": {},
   "outputs": [],
   "source": [
    "x_values = northern_hemisphere[\"Lat\"]\n",
    "y_values = northern_hemisphere[\"Max Temp\"]\n",
    "\n",
    "# Add the linear regression equation and line to scatter plot\n",
    "(slope, intercept, rvalue, pvalue, stderr) = linregress(x_values, y_values)\n",
    "regress_values = x_values * slope + intercept\n",
    "line = \"y = \"+ str(round(slope, 2)) + \"x + \" + str(round(intercept,2))\n",
    "\n",
    "plt.scatter(x_values,y_values)\n",
    "plt.plot(x_values,regress_values, \"r-\")\n",
    "plt.annotate(line,(6,10), fontsize=15, color=\"r\")\n",
    "\n",
    "# Create plot title, labels and print r-value\n",
    "plt.title(\"Northern Hemisphere - Max Temp vs. Latitude\")\n",
    "plt.xlabel(\"Latitude\")\n",
    "plt.ylabel(\"Max Temperature (F)\")\n",
    "\n",
    "print(f\"The r-value is: {rvalue**2}\")\n",
    "\n",
    "plt.show()"
   ]
  },
  {
   "cell_type": "markdown",
   "metadata": {},
   "source": [
    "####  Southern Hemisphere - Max Temp vs. Latitude Linear Regression"
   ]
  },
  {
   "cell_type": "code",
   "execution_count": null,
   "metadata": {},
   "outputs": [],
   "source": [
    "x_values = southern_hemisphere[\"Lat\"]\n",
    "y_values = southern_hemisphere[\"Max Temp\"]\n",
    "\n",
    "# Add the linear regression equation and line to scatter plot\n",
    "(slope, intercept, rvalue, pvalue, stderr) = linregress(x_values, y_values)\n",
    "regress_values = x_values * slope + intercept\n",
    "line = \"y = \"+ str(round(slope, 2)) + \"x + \" + str(round(intercept,2))\n",
    "\n",
    "plt.scatter(x_values,y_values)\n",
    "plt.plot(x_values,regress_values, \"r-\")\n",
    "plt.annotate(line,(-30,40), fontsize=15, color=\"r\")\n",
    "\n",
    "# Create plot title, labels and print r-value\n",
    "plt.title(\"Southern Hemisphere - Max Temp vs. Latitude\")\n",
    "plt.xlabel(\"Latitude\")\n",
    "plt.ylabel(\"Max Temperature (F)\")\n",
    "\n",
    "print(f\"The r-value is: {rvalue**2}\")\n",
    "\n",
    "plt.show()"
   ]
  },
  {
   "cell_type": "markdown",
   "metadata": {},
   "source": [
    "####  Northern Hemisphere - Humidity (%) vs. Latitude Linear Regression"
   ]
  },
  {
   "cell_type": "code",
   "execution_count": null,
   "metadata": {},
   "outputs": [],
   "source": [
    "x_values = northern_hemisphere[\"Lat\"]\n",
    "y_values = northern_hemisphere[\"Humidity\"]\n",
    "\n",
    "# Add the linear regression equation and line to scatter plot\n",
    "(slope, intercept, rvalue, pvalue, stderr) = linregress(x_values, y_values)\n",
    "regress_values = x_values * slope + intercept\n",
    "line = \"y = \"+ str(round(slope, 2)) + \"x + \" + str(round(intercept,2))\n",
    "\n",
    "plt.scatter(x_values,y_values)\n",
    "plt.plot(x_values,regress_values, \"r-\")\n",
    "plt.annotate(line,(40,10), fontsize=15, color=\"r\")\n",
    "\n",
    "# Create plot title, labels and print r-value\n",
    "plt.title(\"Northern Hemisphere - Humidity vs. Latitude\")\n",
    "plt.xlabel(\"Latitude\")\n",
    "plt.ylabel(\"Humidity (%)\")\n",
    "\n",
    "print(f\"The r-value is: {rvalue**2}\")\n",
    "\n",
    "plt.show()"
   ]
  },
  {
   "cell_type": "markdown",
   "metadata": {},
   "source": [
    "####  Southern Hemisphere - Humidity (%) vs. Latitude Linear Regression"
   ]
  },
  {
   "cell_type": "code",
   "execution_count": null,
   "metadata": {},
   "outputs": [],
   "source": [
    "x_values = southern_hemisphere[\"Lat\"]\n",
    "y_values = southern_hemisphere[\"Humidity\"]\n",
    "\n",
    "# Add the linear regression equation and line to scatter plot\n",
    "(slope, intercept, rvalue, pvalue, stderr) = linregress(x_values, y_values)\n",
    "regress_values = x_values * slope + intercept\n",
    "line = \"y = \"+ str(round(slope, 2)) + \"x + \" + str(round(intercept,2))\n",
    "\n",
    "plt.scatter(x_values,y_values)\n",
    "plt.plot(x_values,regress_values, \"r-\")\n",
    "plt.annotate(line,(-55, 18), fontsize=15, color=\"r\")\n",
    "\n",
    "# Create plot title, labels and print r-value\n",
    "plt.title(\"Southern Hemisphere - Humidity vs. Latitude\")\n",
    "plt.xlabel(\"Latitude\")\n",
    "plt.ylabel(\"Humidity (%)\")\n",
    "\n",
    "print(f\"The r-value is: {rvalue**2}\")\n",
    "\n",
    "plt.show()"
   ]
  },
  {
   "cell_type": "markdown",
   "metadata": {},
   "source": [
    "####  Northern Hemisphere - Cloudiness (%) vs. Latitude Linear Regression"
   ]
  },
  {
   "cell_type": "code",
   "execution_count": null,
   "metadata": {},
   "outputs": [],
   "source": [
    "x_values = northern_hemisphere[\"Lat\"]\n",
    "y_values = northern_hemisphere[\"Cloudiness\"]\n",
    "\n",
    "# Add the linear regression equation and line to scatter plot\n",
    "(slope, intercept, rvalue, pvalue, stderr) = linregress(x_values, y_values)\n",
    "regress_values = x_values * slope + intercept\n",
    "line = \"y = \"+ str(round(slope, 2)) + \"x + \" + str(round(intercept,2))\n",
    "\n",
    "plt.scatter(x_values,y_values)\n",
    "plt.plot(x_values,regress_values, \"r-\")\n",
    "plt.annotate(line,(30,50), fontsize=15, color=\"r\")\n",
    "\n",
    "# Create plot title, labels and print r-value\n",
    "plt.title(\"Northern Hemisphere - Cloudiness vs. Latitude\")\n",
    "plt.xlabel(\"Latitude\")\n",
    "plt.ylabel(\"Cloudiness (%)\")\n",
    "\n",
    "print(f\"The r-value is: {rvalue**2}\")\n",
    "\n",
    "plt.show()"
   ]
  },
  {
   "cell_type": "markdown",
   "metadata": {},
   "source": [
    "####  Southern Hemisphere - Cloudiness (%) vs. Latitude Linear Regression"
   ]
  },
  {
   "cell_type": "code",
   "execution_count": null,
   "metadata": {},
   "outputs": [],
   "source": [
    "x_values = southern_hemisphere[\"Lat\"]\n",
    "y_values = southern_hemisphere[\"Cloudiness\"]\n",
    "\n",
    "# Add the linear regression equation and line to scatter plot\n",
    "(slope, intercept, rvalue, pvalue, stderr) = linregress(x_values, y_values)\n",
    "regress_values = x_values * slope + intercept\n",
    "line = \"y = \"+ str(round(slope, 2)) + \"x + \" + str(round(intercept,2))\n",
    "\n",
    "plt.scatter(x_values,y_values)\n",
    "plt.plot(x_values,regress_values, \"r-\")\n",
    "plt.annotate(line,(-55, 12), fontsize=15, color=\"r\")\n",
    "\n",
    "# Create plot title, labels and print r-value\n",
    "plt.title(\"Southern Hemisphere - Cloudiness vs. Latitude\")\n",
    "plt.xlabel(\"Latitude\")\n",
    "plt.ylabel(\"Cloudiness (%)\")\n",
    "\n",
    "print(f\"The r-value is: {rvalue**2}\")\n",
    "\n",
    "plt.show()"
   ]
  },
  {
   "cell_type": "markdown",
   "metadata": {},
   "source": [
    "####  Northern Hemisphere - Wind Speed (mph) vs. Latitude Linear Regression"
   ]
  },
  {
   "cell_type": "code",
   "execution_count": null,
   "metadata": {},
   "outputs": [],
   "source": [
    "x_values = northern_hemisphere[\"Lat\"]\n",
    "y_values = northern_hemisphere[\"Wind Speed\"]\n",
    "\n",
    "#Add the linear regression equation and line to scatter plot\n",
    "(slope, intercept, rvalue, pvalue, stderr) = linregress(x_values, y_values)\n",
    "regress_values = x_values * slope + intercept\n",
    "line = \"y = \"+ str(round(slope, 2)) + \"x + \" + str(round(intercept,2))\n",
    "\n",
    "plt.scatter(x_values,y_values)\n",
    "plt.plot(x_values,regress_values, \"r-\")\n",
    "plt.annotate(line,(0,26), fontsize=15, color=\"r\")\n",
    "\n",
    "# Create plot title, labels and print r-value\n",
    "plt.title(\"Northern Hemisphere - Wind Speed vs. Latitude\")\n",
    "plt.xlabel(\"Latitude\")\n",
    "plt.ylabel(\"Wind Speed (mph)\")\n",
    "\n",
    "print(f\"The r-value is: {rvalue**2}\")\n",
    "\n",
    "plt.show()"
   ]
  },
  {
   "cell_type": "markdown",
   "metadata": {},
   "source": [
    "####  Southern Hemisphere - Wind Speed (mph) vs. Latitude Linear Regression"
   ]
  },
  {
   "cell_type": "code",
   "execution_count": null,
   "metadata": {},
   "outputs": [],
   "source": [
    "x_values = southern_hemisphere[\"Lat\"]\n",
    "y_values = southern_hemisphere[\"Wind Speed\"]\n",
    "\n",
    "# Add the linear regression equation and line to scatter plot\n",
    "(slope, intercept, rvalue, pvalue, stderr) = linregress(x_values, y_values)\n",
    "regress_values = x_values * slope + intercept\n",
    "line = \"y = \"+ str(round(slope, 2)) + \"x + \" + str(round(intercept,2))\n",
    "\n",
    "plt.scatter(x_values,y_values)\n",
    "plt.plot(x_values,regress_values, \"r-\")\n",
    "plt.annotate(line,(-55, 23), fontsize=15, color=\"r\")\n",
    "\n",
    "# Create plot title, labels and print r-value\n",
    "plt.title(\"Southern Hemisphere - Wind Speed vs. Latitude\")\n",
    "plt.xlabel(\"Latitude\")\n",
    "plt.ylabel(\"Wind Speed (mph)\")\n",
    "\n",
    "print(f\"The r-value is: {rvalue**2}\")\n",
    "\n",
    "plt.show()"
   ]
  },
  {
   "cell_type": "code",
   "execution_count": null,
   "metadata": {},
   "outputs": [],
   "source": []
  }
 ],
 "metadata": {
  "anaconda-cloud": {},
  "kernel_info": {
   "name": "python3"
  },
  "kernelspec": {
   "display_name": "Python 3",
   "language": "python",
   "name": "python3"
  },
  "language_info": {
   "codemirror_mode": {
    "name": "ipython",
    "version": 3
   },
   "file_extension": ".py",
   "mimetype": "text/x-python",
   "name": "python",
   "nbconvert_exporter": "python",
   "pygments_lexer": "ipython3",
   "version": "3.8.8"
  },
  "latex_envs": {
   "LaTeX_envs_menu_present": true,
   "autoclose": false,
   "autocomplete": true,
   "bibliofile": "biblio.bib",
   "cite_by": "apalike",
   "current_citInitial": 1,
   "eqLabelWithNumbers": true,
   "eqNumInitial": 1,
   "hotkeys": {
    "equation": "Ctrl-E",
    "itemize": "Ctrl-I"
   },
   "labels_anchors": false,
   "latex_user_defs": false,
   "report_style_numbering": false,
   "user_envs_cfg": false
  },
  "nteract": {
   "version": "0.12.3"
  }
 },
 "nbformat": 4,
 "nbformat_minor": 2
}
